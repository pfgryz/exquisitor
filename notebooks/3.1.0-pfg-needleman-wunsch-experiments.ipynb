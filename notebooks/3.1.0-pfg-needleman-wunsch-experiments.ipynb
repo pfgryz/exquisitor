{
 "cells": [
  {
   "cell_type": "markdown",
   "metadata": {},
   "source": [
    "# Needleman-Wunsch Alignment Algorithm - Naive version"
   ]
  },
  {
   "cell_type": "code",
   "execution_count": 2,
   "metadata": {},
   "outputs": [],
   "source": [
    "import csv"
   ]
  },
  {
   "cell_type": "markdown",
   "metadata": {},
   "source": [
    "## Blosum 50"
   ]
  },
  {
   "cell_type": "code",
   "execution_count": 7,
   "metadata": {},
   "outputs": [
    {
     "data": {
      "text/plain": [
       "-2"
      ]
     },
     "execution_count": 7,
     "metadata": {},
     "output_type": "execute_result"
    }
   ],
   "source": [
    "class Blosum50:\n",
    "\n",
    "    def __init__(self, header, matrix):\n",
    "        self._header = header\n",
    "        self._matrix = matrix\n",
    "\n",
    "    def _get_symbol_index(self, symbol: str) -> int:\n",
    "        if symbol in self._header:\n",
    "            return self._header.index(symbol)\n",
    "        else:\n",
    "            return self._header.index(\"*\")\n",
    "\n",
    "    def get(self, first: str, second: str) -> int:\n",
    "        first_index = self._get_symbol_index(first)\n",
    "        second_index = self._get_symbol_index(second)\n",
    "\n",
    "        return self._matrix[first_index][second_index]\n",
    "\n",
    "\n",
    "    @classmethod\n",
    "    def load(cls, filename: str) -> 'Blosum50':\n",
    "        matrix = []\n",
    "        header = None\n",
    "\n",
    "        with open(filename, \"r\") as handle:\n",
    "            reader = csv.reader(handle)\n",
    "\n",
    "            header = next(reader, None)\n",
    "            if header is None:\n",
    "                raise ValueError(\"Missing header\")\n",
    "\n",
    "            for row in reader:\n",
    "                matrix.append(\n",
    "                    list(\n",
    "                        map(\n",
    "                            int,\n",
    "                            row\n",
    "                        )\n",
    "                    )\n",
    "                )\n",
    "\n",
    "        return cls(header, matrix)\n",
    "\n",
    "\n",
    "blosum50 = Blosum50.load(\"needleman-wunsch/blosum50.csv\")\n",
    "blosum50.get(\"P\", \"H\")"
   ]
  },
  {
   "cell_type": "markdown",
   "metadata": {},
   "source": [
    "## Needleman-Wunsch"
   ]
  },
  {
   "cell_type": "code",
   "execution_count": 110,
   "metadata": {},
   "outputs": [
    {
     "name": "stdout",
     "output_type": "stream",
     "text": [
      "[(0, 0), (1, -8), (1, -16), (1, -24), (1, -32), (1, -40), (1, -48), (1, -56), (1, -64), (1, -72), (1, -80)]\n",
      "[(0, -8), (2, -2), (2, -9), (1, -17), (1, -25), (1, -33), (1, -41), (1, -49), (1, -57), (1, -65), (1, -73)]\n",
      "[(0, -16), (0, -10), (2, -3), (2, -4), (1, -12), (1, -20), (1, -28), (1, -36), (1, -44), (1, -52), (1, -60)]\n",
      "[(0, -24), (0, -18), (0, -11), (2, -6), (2, -7), (1, -15), (2, -5), (1, -13), (1, -21), (1, -29), (1, -37)]\n",
      "[(0, -32), (2, -14), (2, -18), (2, -13), (2, -8), (2, -9), (0, -13), (2, -7), (2, -3), (1, -11), (1, -19)]\n",
      "[(0, -40), (0, -22), (2, -8), (1, -16), (0, -16), (2, -9), (2, -12), (0, -15), (2, -7), (2, 3), (1, -5)]\n",
      "[(0, -48), (0, -30), (0, -16), (2, -3), (1, -11), (2, -11), (2, -12), (2, -12), (0, -15), (0, -5), (2, 2)]\n",
      "[(0, -56), (0, -38), (0, -24), (0, -11), (2, -6), (2, -12), (2, -14), (2, -15), (2, -12), (2, -9), (2, 1)]\n",
      "VALUE:  1\n"
     ]
    },
    {
     "data": {
      "text/plain": [
       "('HEAGAWGHE-E', '-PA--W-HEAE')"
      ]
     },
     "execution_count": 110,
     "metadata": {},
     "output_type": "execute_result"
    }
   ],
   "source": [
    "class NeedlemanWunsch:\n",
    "\n",
    "    def __init__(self, a: str, b: str, d: float, blosum50: Blosum50):\n",
    "        self._a = a\n",
    "        self._b = b\n",
    "        self._d = d\n",
    "        self._blosum50 = blosum50\n",
    "\n",
    "    def build_matrix(self):\n",
    "        self._matrix = [\n",
    "            [(0, 0) for _ in range(len(self._a) + 1)]\n",
    "            for _ in range(len(self._b) + 1)\n",
    "        ]\n",
    "\n",
    "        for row in range(1, len(self._b) + 1):\n",
    "            self._matrix[row][0] = (0, -row * self._d)\n",
    "\n",
    "        for column in range(1, len(self._a) + 1):\n",
    "            self._matrix[0][column] = (1, -column * self._d)\n",
    "\n",
    "        for row in range(1, len(self._b) + 1):\n",
    "            for column in range(1, len(self._a) + 1):\n",
    "                if row == column == 0:\n",
    "                    continue\n",
    "\n",
    "                self._matrix[row][column] = argmax(\n",
    "                    self._matrix[row - 1][column][1] - self._d,\n",
    "                    self._matrix[row][column - 1][1] - self._d,\n",
    "                    self._matrix[row - 1][column - 1][1] + self._blosum50.get(\n",
    "                       self._a[column - 1], self._b[row - 1]\n",
    "                    )\n",
    "                )\n",
    "\n",
    "        for line in self._matrix:\n",
    "            print(line)\n",
    "\n",
    "    def align(self):\n",
    "        first = []\n",
    "        second = []\n",
    "        row = len(self._b)\n",
    "        column = len(self._a)\n",
    "        print(\"VALUE: \", self._matrix[row][column][1])\n",
    "\n",
    "        while row != 0 or column != 0:\n",
    "            direction, _ = self._matrix[row][column]\n",
    "            \n",
    "            if direction == 0:\n",
    "                row -= 1\n",
    "                first.append(\"-\")\n",
    "                second.append(self._b[row])\n",
    "            elif direction == 1:\n",
    "                column -= 1\n",
    "                first.append(self._a[column])\n",
    "                second.append(\"-\")\n",
    "            else:\n",
    "                column -= 1\n",
    "                row -= 1\n",
    "                first.append(self._a[column])\n",
    "                second.append(self._b[row])\n",
    "\n",
    "        first_join = \"\".join(reversed(first))\n",
    "        second_join = \"\".join(reversed(second))          \n",
    "        return first_join, second_join\n",
    "\n",
    "example = NeedlemanWunsch(\"HEAGAWGHEE\", \"PAWHEAE\", 8, blosum50)\n",
    "example.build_matrix()\n",
    "example.align()"
   ]
  }
 ],
 "metadata": {
  "interpreter": {
   "hash": "2be5faf79681da6f2a61fdfdd5405d65d042280f7fba6178067603e3a2925119"
  },
  "kernelspec": {
   "display_name": "Python 3.10.0 64-bit",
   "language": "python",
   "name": "python3"
  },
  "language_info": {
   "codemirror_mode": {
    "name": "ipython",
    "version": 3
   },
   "file_extension": ".py",
   "mimetype": "text/x-python",
   "name": "python",
   "nbconvert_exporter": "python",
   "pygments_lexer": "ipython3",
   "version": "3.12.0"
  },
  "orig_nbformat": 4
 },
 "nbformat": 4,
 "nbformat_minor": 2
}
