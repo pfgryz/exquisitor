{
 "cells": [
  {
   "cell_type": "markdown",
   "id": "19091785add372af",
   "metadata": {
    "collapsed": false
   },
   "source": [
    "### Import \n",
    "- os - to create output directory for sequences\n",
    "- Bio.Entrez - package that allows communication to Entrez from NCBI"
   ]
  },
  {
   "cell_type": "code",
   "execution_count": 24,
   "id": "initial_id",
   "metadata": {
    "ExecuteTime": {
     "end_time": "2024-03-04T18:06:17.389942300Z",
     "start_time": "2024-03-04T18:06:17.378472500Z"
    },
    "collapsed": true
   },
   "outputs": [],
   "source": [
    "import os\n",
    "\n",
    "from Bio import Entrez\n",
    "from Bio import SeqIO"
   ]
  },
  {
   "cell_type": "markdown",
   "id": "fc782f7cc93b1bf1",
   "metadata": {
    "collapsed": false
   },
   "source": [
    "### Configure output folder"
   ]
  },
  {
   "cell_type": "code",
   "execution_count": 25,
   "id": "a29aa705a1eda3b",
   "metadata": {
    "ExecuteTime": {
     "end_time": "2024-03-04T18:06:17.946938200Z",
     "start_time": "2024-03-04T18:06:17.924955400Z"
    },
    "collapsed": false
   },
   "outputs": [
    {
     "data": {
      "text/plain": [
       "'C:\\\\Users\\\\Komputer\\\\source\\\\pw\\\\persistent\\\\bachelors\\\\research\\\\databases'"
      ]
     },
     "execution_count": 25,
     "metadata": {},
     "output_type": "execute_result"
    }
   ],
   "source": [
    "output_directory = \"dbs\"\n",
    "\n",
    "os.makedirs(output_directory, exist_ok=True)\n",
    "os.getcwd()"
   ]
  },
  {
   "cell_type": "markdown",
   "id": "2dfe596cdf3a6c36",
   "metadata": {
    "collapsed": false
   },
   "source": [
    "### Configure Entrez\n",
    "- Entrez requires e-mail address"
   ]
  },
  {
   "cell_type": "code",
   "execution_count": 26,
   "id": "eb3ca2c99d7f03c6",
   "metadata": {
    "ExecuteTime": {
     "end_time": "2024-03-04T18:06:18.591550100Z",
     "start_time": "2024-03-04T18:06:18.576830500Z"
    },
    "collapsed": false
   },
   "outputs": [],
   "source": [
    "Entrez.email = \"patryk.gryz.stud@pw.edu.pl\"\n",
    "Entrez.tool = \"sequences-databases-research\""
   ]
  },
  {
   "cell_type": "markdown",
   "id": "3c69de690f129c3f",
   "metadata": {
    "collapsed": false
   },
   "source": [
    "### Search database for sequences\n",
    "- get all 1000 length sequences that are part of genomic"
   ]
  },
  {
   "cell_type": "code",
   "execution_count": 27,
   "id": "20b03dd4ad747780",
   "metadata": {
    "ExecuteTime": {
     "end_time": "2024-03-04T18:06:19.708268Z",
     "start_time": "2024-03-04T18:06:19.125625Z"
    },
    "collapsed": false
   },
   "outputs": [
    {
     "data": {
      "text/plain": [
       "['2687871986', '2687867249', '2687866140', '2687860224', '2687856402', '2687744291', '2687735969', '2687730299', '2687727002', '2687717978', '2687711865', '2687711319', '2687699374', '2687694164', '2687686868', '2687674807', '2687667051', '2687653162', '2687653128', '2687649762']"
      ]
     },
     "execution_count": 27,
     "metadata": {},
     "output_type": "execute_result"
    }
   ],
   "source": [
    "with Entrez.esearch(\n",
    "    db=\"nucleotide\",\n",
    "    term=\"(all[Filter]) AND (1000[Sequence Length]) AND (gene_in_genomic[PROP])\",\n",
    "    retstart=10\n",
    ") as handle:\n",
    "    record = Entrez.read(handle)\n",
    "    identifiers = record.get(\"IdList\", [])\n",
    "    \n",
    "identifiers"
   ]
  },
  {
   "cell_type": "markdown",
   "id": "74c332603adddaad",
   "metadata": {
    "collapsed": false
   },
   "source": [
    "### Download first sequence"
   ]
  },
  {
   "cell_type": "code",
   "execution_count": 28,
   "id": "109f2292a16e043f",
   "metadata": {
    "ExecuteTime": {
     "end_time": "2024-03-04T18:06:20.611413Z",
     "start_time": "2024-03-04T18:06:19.765132400Z"
    },
    "collapsed": false
   },
   "outputs": [
    {
     "data": {
      "text/plain": [
       "SeqRecord(seq=Seq('CTACCTTTTGGCCAACTGCCTGTTGCTTTGAAAAAGACTGTAAGAGGCTCTATA...TTT'), id='XR_010080109.1', name='XR_010080109.1', description='XR_010080109.1 PREDICTED: Prinia subflava uncharacterized LOC134549442 (LOC134549442), transcript variant X7, ncRNA', dbxrefs=[])"
      ]
     },
     "execution_count": 28,
     "metadata": {},
     "output_type": "execute_result"
    }
   ],
   "source": [
    "with Entrez.efetch(\n",
    "    db=\"nucleotide\",\n",
    "    id=identifiers[0],\n",
    "    rettype=\"fasta\",\n",
    "    retmode=\"text\"\n",
    ") as handle:\n",
    "    seq = SeqIO.read(handle, \"fasta\")\n",
    "\n",
    "seq"
   ]
  },
  {
   "cell_type": "markdown",
   "id": "db532cb64967ad8d",
   "metadata": {
    "collapsed": false
   },
   "source": [
    "### Write with SeqIO"
   ]
  },
  {
   "cell_type": "code",
   "execution_count": 29,
   "id": "3b5ed4d17347e075",
   "metadata": {
    "ExecuteTime": {
     "end_time": "2024-03-04T18:06:20.853851500Z",
     "start_time": "2024-03-04T18:06:20.824777700Z"
    },
    "collapsed": false
   },
   "outputs": [
    {
     "data": {
      "text/plain": [
       "1"
      ]
     },
     "execution_count": 29,
     "metadata": {},
     "output_type": "execute_result"
    }
   ],
   "source": [
    "SeqIO.write(seq, os.path.join(output_directory, f\"{identifiers[0]}.fasta\"), \"fasta\")"
   ]
  },
  {
   "cell_type": "markdown",
   "id": "b836dc9b",
   "metadata": {},
   "source": [
    "## Simple Script"
   ]
  },
  {
   "cell_type": "code",
   "execution_count": null,
   "id": "46c801b2",
   "metadata": {},
   "outputs": [],
   "source": [
    "import os\n",
    "import logging\n",
    "from typing import List\n",
    "\n",
    "from Bio import Entrez\n",
    "\n",
    "\n",
    "def configure_entrez():\n",
    "    Entrez.email = \"<email>\"\n",
    "    Entrez.tool = \"Sequences-databases-research\"\n",
    "\n",
    "\n",
    "def download_single_nucleotide(identifier: str, filename: str) -> None:\n",
    "    with Entrez.efetch(\n",
    "            db=\"nucleotide\", id=identifier, rettype=\"fasta\", retmode=\"text\"\n",
    "    ) as handle:\n",
    "        with open(filename, \"w\") as file:\n",
    "            file.write(handle.read())\n",
    "\n",
    "\n",
    "def search_database() -> List[str]:\n",
    "    with Entrez.esearch(\n",
    "            db=\"nucleotide\",\n",
    "            term=\"(all[Filter]) AND (1000[Sequence Length]) AND (gene_in_genomic[PROP])\",\n",
    "            retstart=10\n",
    "    ) as handle:\n",
    "        record = Entrez.read(handle)\n",
    "        logging.info(f\"Record: {record}\")\n",
    "        return record.get(\"IdList\", [])\n",
    "\n",
    "\n",
    "def test_download_first():\n",
    "    identifier = search_database()\n",
    "\n",
    "    logging.debug(f\"Identifiers: {identifier}\")\n",
    "\n",
    "    for identifier in identifier:\n",
    "        logging.info(f\"Downloading {identifier}\")\n",
    "        download_single_nucleotide(identifier, f\"databases/{identifier}.fasta\")\n",
    "        break\n",
    "\n",
    "\n",
    "if __name__ == \"__main__\":\n",
    "    logging.getLogger().setLevel(logging.DEBUG)\n",
    "\n",
    "    configure_entrez()\n",
    "    os.makedirs(\"databases\", exist_ok=True)\n",
    "    test_download_first()\n"
   ]
  }
 ],
 "metadata": {
  "kernelspec": {
   "display_name": "Python 3",
   "language": "python",
   "name": "python3"
  },
  "language_info": {
   "codemirror_mode": {
    "name": "ipython",
    "version": 2
   },
   "file_extension": ".py",
   "mimetype": "text/x-python",
   "name": "python",
   "nbconvert_exporter": "python",
   "pygments_lexer": "ipython2",
   "version": "2.7.6"
  }
 },
 "nbformat": 4,
 "nbformat_minor": 5
}
