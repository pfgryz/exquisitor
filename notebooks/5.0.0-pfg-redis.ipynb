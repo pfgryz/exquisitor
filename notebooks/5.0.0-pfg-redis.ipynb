{
 "cells": [
  {
   "metadata": {},
   "cell_type": "markdown",
   "source": "# Redis",
   "id": "75380a4c42c5b485"
  },
  {
   "metadata": {
    "ExecuteTime": {
     "end_time": "2024-05-07T12:07:54.624684Z",
     "start_time": "2024-05-07T12:07:54.521140Z"
    }
   },
   "cell_type": "code",
   "source": [
    "import redis\n",
    "import time\n",
    "from typing import Optional, Any\n",
    "\n",
    "db = redis.Redis(host='localhost', port=6379, decode_responses=True)"
   ],
   "id": "6180ccfe537709ba",
   "outputs": [],
   "execution_count": 1
  },
  {
   "metadata": {
    "ExecuteTime": {
     "end_time": "2024-05-07T12:07:54.642861Z",
     "start_time": "2024-05-07T12:07:54.627741Z"
    }
   },
   "cell_type": "code",
   "source": [
    "db.set('foo', 'bar')\n",
    "db.get('foo')"
   ],
   "id": "6fd69e851209a2f",
   "outputs": [
    {
     "data": {
      "text/plain": [
       "'bar'"
      ]
     },
     "execution_count": 2,
     "metadata": {},
     "output_type": "execute_result"
    }
   ],
   "execution_count": 2
  },
  {
   "metadata": {},
   "cell_type": "markdown",
   "source": "## Message Queue",
   "id": "7f9528868fa5770a"
  },
  {
   "metadata": {
    "ExecuteTime": {
     "end_time": "2024-05-07T12:07:54.649219Z",
     "start_time": "2024-05-07T12:07:54.645427Z"
    }
   },
   "cell_type": "code",
   "source": [
    "def push(queue: str, *message):\n",
    "    db.lpush(queue, *message)\n",
    "\n",
    "def pull(queue: str) -> Optional[Any]:\n",
    "    message = db.rpop(queue)\n",
    "    return message"
   ],
   "id": "14af136383e80e95",
   "outputs": [],
   "execution_count": 3
  },
  {
   "metadata": {},
   "cell_type": "markdown",
   "source": "### Producer",
   "id": "ddc1d7ee18f170b5"
  },
  {
   "metadata": {
    "ExecuteTime": {
     "end_time": "2024-05-07T12:07:54.663965Z",
     "start_time": "2024-05-07T12:07:54.650920Z"
    }
   },
   "cell_type": "code",
   "source": [
    "QUEUE = \"tasks\"\n",
    "push(QUEUE, \"add 1 0\")\n",
    "push(QUEUE, \"add 2 3\")\n",
    "push(QUEUE, \"mul 4 10\")\n",
    "push(QUEUE, \"div 5 11\")"
   ],
   "id": "ce0e0ed4ba8b12b",
   "outputs": [],
   "execution_count": 4
  },
  {
   "metadata": {},
   "cell_type": "markdown",
   "source": "### Consumer",
   "id": "a0a1d66376b69107"
  },
  {
   "metadata": {
    "ExecuteTime": {
     "end_time": "2024-05-07T12:07:58.692345Z",
     "start_time": "2024-05-07T12:07:54.667533Z"
    }
   },
   "cell_type": "code",
   "source": [
    "while msg := pull(QUEUE):\n",
    "    print('Received new task')\n",
    "    print(f'\\ttime: {time.time()}')\n",
    "    print(f'\\tcommand: {msg}')\n",
    "    time.sleep(1)"
   ],
   "id": "540ba908aee6421a",
   "outputs": [
    {
     "name": "stdout",
     "output_type": "stream",
     "text": [
      "Received new task\n",
      "\ttime: 1715083674.6821647\n",
      "\tcommand: add 1 0\n",
      "Received new task\n",
      "\ttime: 1715083675.6842964\n",
      "\tcommand: add 2 3\n",
      "Received new task\n",
      "\ttime: 1715083676.6868024\n",
      "\tcommand: mul 4 10\n",
      "Received new task\n",
      "\ttime: 1715083677.6885042\n",
      "\tcommand: div 5 11\n"
     ]
    }
   ],
   "execution_count": 5
  },
  {
   "metadata": {},
   "cell_type": "markdown",
   "source": [
    "### See more\n",
    "Celery\n",
    "https://docs.celeryq.dev/\n",
    "\n",
    "Rust Celery\n",
    "https://github.com/rusty-celery/rusty-celery"
   ],
   "id": "242147b4bf2a5c8e"
  },
  {
   "metadata": {},
   "cell_type": "markdown",
   "source": [
    "### Conclusions\n",
    "Redis can be used as stable message broker. \n",
    "\n",
    "With Celery and Celery Rust it is possible to make web server with Python (eg. FastAPI for fast prototyping and developing) and workers in Rust, where performance is needed."
   ],
   "id": "4293a61045c23bbe"
  }
 ],
 "metadata": {
  "kernelspec": {
   "display_name": "Python 3",
   "language": "python",
   "name": "python3"
  },
  "language_info": {
   "codemirror_mode": {
    "name": "ipython",
    "version": 2
   },
   "file_extension": ".py",
   "mimetype": "text/x-python",
   "name": "python",
   "nbconvert_exporter": "python",
   "pygments_lexer": "ipython2",
   "version": "2.7.6"
  }
 },
 "nbformat": 4,
 "nbformat_minor": 5
}
