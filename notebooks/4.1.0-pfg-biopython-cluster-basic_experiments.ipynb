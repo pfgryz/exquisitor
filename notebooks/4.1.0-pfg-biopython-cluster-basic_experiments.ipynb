{
 "cells": [
  {
   "metadata": {},
   "cell_type": "markdown",
   "source": "## Biopython.Cluster",
   "id": "4480022c4d8a24cf"
  },
  {
   "metadata": {},
   "cell_type": "markdown",
   "source": [
    "## Description\n",
    "\n",
    "Simple experiments with module `Bio.Cluster`\n",
    "\n"
   ],
   "id": "4f1ae1fb72bc5018"
  },
  {
   "metadata": {},
   "cell_type": "markdown",
   "source": [
    "## Setup\n",
    "```shell\n",
    "pip install biopython\n",
    "pip install numpy\n",
    "pip install scipy\n",
    "```"
   ],
   "id": "3d9b26b2756d6401"
  },
  {
   "metadata": {},
   "cell_type": "markdown",
   "source": "## Utility",
   "id": "a7cedfa83e20bbb9"
  },
  {
   "metadata": {
    "ExecuteTime": {
     "end_time": "2024-05-06T13:11:05.355321Z",
     "start_time": "2024-05-06T13:11:05.351887Z"
    }
   },
   "cell_type": "code",
   "source": [
    "import numpy as np\n",
    "from Bio import Seq, SeqIO\n",
    "from Bio.Cluster import distancematrix, kcluster, clusterdistance, kmedoids"
   ],
   "id": "1317773dfb3e024a",
   "outputs": [],
   "execution_count": 128
  },
  {
   "metadata": {},
   "cell_type": "markdown",
   "source": "### Cluster sequences",
   "id": "bbc514c4586f0803"
  },
  {
   "metadata": {
    "ExecuteTime": {
     "end_time": "2024-05-06T13:14:44.925506Z",
     "start_time": "2024-05-06T13:14:44.918640Z"
    }
   },
   "cell_type": "code",
   "source": [
    "base_mapping = {'A': 0, 'C': 1, 'G': 2, 'T': 3}\n",
    "\n",
    "\n",
    "def map_sequence(seq: Seq) -> np.array:\n",
    "    return np.array([base_mapping.get(base, -1) for base in seq])\n",
    "\n",
    "\n",
    "def map_sequences(seqs: list[Seq]) -> np.array:\n",
    "    return np.array([map_sequence(seq) for seq in seqs])\n",
    "\n",
    "\n",
    "def read_sequences(filename: str) -> list[Seq]:\n",
    "    sequences = []\n",
    "    for record in SeqIO.parse(filename, \"fasta\"):\n",
    "        sequences.append(record.seq.upper())\n",
    "    return sequences\n",
    "\n",
    "\n",
    "def convert_triangle_to_square_matrix(triangle_matrix: np.array) -> np.array:\n",
    "    n = len(triangle_matrix)\n",
    "\n",
    "    square_matrix = np.zeros((n, n))\n",
    "    \n",
    "    for i in range(n):\n",
    "        for j in range(1, i + 1):\n",
    "            square_matrix[i][j - 1] = triangle_matrix[i][j - 1]\n",
    "            square_matrix[j - 1][i] = triangle_matrix[i][j - 1]\n",
    "    \n",
    "    return square_matrix\n",
    "\n",
    "\n",
    "def cluster_fasta(filename: str, nclusters: int = 2):\n",
    "    sequences = read_sequences(filename)\n",
    "    sequences = map_sequences(sequences)\n",
    "    distance_matrix = distancematrix(sequences)\n",
    "    square_distance_matrix = convert_triangle_to_square_matrix(distance_matrix)\n",
    "\n",
    "    cluster = kcluster(square_distance_matrix, nclusters=nclusters)\n",
    "    medoids = kmedoids(square_distance_matrix, nclusters=nclusters)\n",
    "    \n",
    "    return cluster, medoids"
   ],
   "id": "50716ce4dd4a83f9",
   "outputs": [],
   "execution_count": 150
  },
  {
   "metadata": {
    "ExecuteTime": {
     "end_time": "2024-05-06T13:14:45.231342Z",
     "start_time": "2024-05-06T13:14:45.221505Z"
    }
   },
   "cell_type": "code",
   "source": "cluster_fasta(\"grouping-algorithms/data/simple_small_diff.fasta\", nclusters=4)",
   "id": "fa8c11f6619ded77",
   "outputs": [
    {
     "data": {
      "text/plain": [
       "((array([2, 1, 0, 3], dtype=int32), 0.0, 1),\n",
       " (array([0, 1, 2, 3], dtype=int32), 0.0, 1))"
      ]
     },
     "execution_count": 151,
     "metadata": {},
     "output_type": "execute_result"
    }
   ],
   "execution_count": 151
  },
  {
   "metadata": {},
   "cell_type": "markdown",
   "source": "### Measure distance between clusters",
   "id": "c5037b11d388fb7a"
  },
  {
   "metadata": {
    "ExecuteTime": {
     "end_time": "2024-05-06T13:14:45.840792Z",
     "start_time": "2024-05-06T13:14:45.836496Z"
    }
   },
   "cell_type": "code",
   "source": [
    "def clusterdistance_fasta(filename: str, indexes1, indexes2):\n",
    "    sequences = read_sequences(filename)\n",
    "    sequences = map_sequences(sequences)\n",
    "    distance_matrix = distancematrix(sequences)\n",
    "    square_distance_matrix = convert_triangle_to_square_matrix(distance_matrix)\n",
    "    \n",
    "    return clusterdistance(square_distance_matrix, mask=None, index1=indexes1, index2=indexes2)"
   ],
   "id": "ea4112f2ede40604",
   "outputs": [],
   "execution_count": 152
  },
  {
   "metadata": {
    "ExecuteTime": {
     "end_time": "2024-05-06T13:14:47.213403Z",
     "start_time": "2024-05-06T13:14:47.205132Z"
    }
   },
   "cell_type": "code",
   "source": "clusterdistance_fasta(\"grouping-algorithms/data/simple_small_diff.fasta\", [0], [1, 2, 3])",
   "id": "a761bae0ea864fde",
   "outputs": [
    {
     "data": {
      "text/plain": [
       "33.837890625"
      ]
     },
     "execution_count": 153,
     "metadata": {},
     "output_type": "execute_result"
    }
   ],
   "execution_count": 153
  }
 ],
 "metadata": {
  "kernelspec": {
   "display_name": "Python 3",
   "language": "python",
   "name": "python3"
  },
  "language_info": {
   "codemirror_mode": {
    "name": "ipython",
    "version": 2
   },
   "file_extension": ".py",
   "mimetype": "text/x-python",
   "name": "python",
   "nbconvert_exporter": "python",
   "pygments_lexer": "ipython2",
   "version": "2.7.6"
  }
 },
 "nbformat": 4,
 "nbformat_minor": 5
}
