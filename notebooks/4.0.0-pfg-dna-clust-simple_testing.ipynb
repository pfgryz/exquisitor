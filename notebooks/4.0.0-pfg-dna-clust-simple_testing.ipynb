{
 "cells": [
  {
   "metadata": {},
   "cell_type": "markdown",
   "source": "# Grouping Algorithms Tests - DNAClust",
   "id": "eb46d9bb396cd196"
  },
  {
   "metadata": {},
   "cell_type": "markdown",
   "source": [
    "## Description\n",
    "\n",
    "Simple tests for DNAClust program\n",
    "\n"
   ],
   "id": "f1d17e82a38f623"
  },
  {
   "metadata": {},
   "cell_type": "markdown",
   "source": [
    "## Setup\n",
    "1. Download DNAClust binaries or compile from source\n",
    "2. Put binaries into `grouping-algorithms/dnaclust`"
   ],
   "id": "c5ed8260aecda296"
  },
  {
   "metadata": {},
   "cell_type": "markdown",
   "source": "## Utility\n",
   "id": "1b325277ca3a8595"
  },
  {
   "metadata": {
    "ExecuteTime": {
     "end_time": "2024-04-22T18:41:13.068521Z",
     "start_time": "2024-04-22T18:41:13.062545Z"
    }
   },
   "cell_type": "code",
   "source": [
    "import subprocess\n",
    "\n",
    "type Cluster = list[str]\n",
    "type Clusters = list[Cluster]\n",
    "\n",
    "\n",
    "def run(program: str, *args: str):\n",
    "    result = subprocess.run([program, *args], capture_output=True,\n",
    "                            text=True)\n",
    "    return result\n",
    "\n",
    "\n",
    "def display_fasta(filename: str):\n",
    "    print(\"=\" * 10 + \" BEGIN: FASTA \" + \"=\" * 10)\n",
    "\n",
    "    with open(f\"grouping-algorithms/data/{filename}\") as handle:\n",
    "        print(handle.read())\n",
    "\n",
    "    print(\"=\" * 10 + \" END: FASTA \" + \"=\" * 10)\n",
    "\n",
    "\n",
    "def display_clusters(clusters: Clusters):\n",
    "    print(\"=\" * 10 + \" BEGIN: CLUSTERS \" + \"=\" * 10)\n",
    "\n",
    "    for idx, cluster in enumerate(clusters, 1):\n",
    "        print(f\"Cluster No. {idx}: \\n\", end=\"\")\n",
    "        \n",
    "        for seq in cluster:\n",
    "            print(f\"\\t- {seq}\")\n",
    "\n",
    "    print(\"=\" * 10 + \" END: CLUSTERS \" + \"=\" * 10)"
   ],
   "id": "fac631a97874daf",
   "outputs": [],
   "execution_count": 113
  },
  {
   "metadata": {
    "ExecuteTime": {
     "end_time": "2024-04-22T18:41:13.117550Z",
     "start_time": "2024-04-22T18:41:13.112681Z"
    }
   },
   "cell_type": "code",
   "source": [
    "def run_dna_clust(filename: str, similarity: float, k: int) -> Clusters:\n",
    "    result = run(\n",
    "        \"grouping-algorithms/dnaclust/dnaclust\",\n",
    "        \"grouping-algorithms/data/\" + filename,\n",
    "        \"-l\",\n",
    "        \"-s\",\n",
    "        f\"{similarity:.2f}\",\n",
    "        \"-k\",\n",
    "        str(k)\n",
    "    )\n",
    "\n",
    "    clusters = [\n",
    "        [element.strip() for element in cluster.strip().split(\"\\t\")]\n",
    "        for cluster in result.stdout.strip().split(\"\\n\")\n",
    "    ]\n",
    "\n",
    "    return clusters"
   ],
   "id": "e6e584a3680d356d",
   "outputs": [],
   "execution_count": 114
  },
  {
   "metadata": {},
   "cell_type": "markdown",
   "source": "## Tests",
   "id": "bfcba16cf790b60d"
  },
  {
   "metadata": {},
   "cell_type": "markdown",
   "source": [
    "### Group simple\n",
    "- cluster two very simple sequences"
   ],
   "id": "458c3baa911a09e0"
  },
  {
   "metadata": {
    "ExecuteTime": {
     "end_time": "2024-04-22T18:41:13.134539Z",
     "start_time": "2024-04-22T18:41:13.120391Z"
    }
   },
   "cell_type": "code",
   "source": "display_fasta(\"simple.fasta\")",
   "id": "c810de3b9d4b3786",
   "outputs": [
    {
     "name": "stdout",
     "output_type": "stream",
     "text": [
      "========== BEGIN: FASTA ==========\n",
      ">Group_A\n",
      "\n",
      "aaaaaaaaaaaaaaaaaaaaaaaaaaaaaaaaaaaaaaaaaaaaaaaaaaaaaaaaaaaaaaaa\n",
      "\n",
      ">Group_T\n",
      "\n",
      "uuuuuuuuuuuuuuuuuuuuuuuuuuuuuuuuuuuuuuuuuuuuuuuuuuuuuuuuuuuuuuuu\n",
      "\n",
      "\n",
      "========== END: FASTA ==========\n"
     ]
    }
   ],
   "execution_count": 115
  },
  {
   "metadata": {
    "ExecuteTime": {
     "end_time": "2024-04-22T18:41:13.274414Z",
     "start_time": "2024-04-22T18:41:13.141165Z"
    }
   },
   "cell_type": "code",
   "source": "display_clusters(run_dna_clust(\"simple.fasta\", 0.95, 3))",
   "id": "f0bab48e9b7f605f",
   "outputs": [
    {
     "name": "stdout",
     "output_type": "stream",
     "text": [
      "========== BEGIN: CLUSTERS ==========\n",
      "Cluster No. 1: \n",
      "\t- Group_T\n",
      "Cluster No. 2: \n",
      "\t- Group_A\n",
      "========== END: CLUSTERS ==========\n"
     ]
    }
   ],
   "execution_count": 116
  },
  {
   "metadata": {},
   "cell_type": "markdown",
   "source": [
    "### Group simple with small differences\n",
    "- cluster four very simple sequences\n",
    "- two sequences are impure, but very similar to reference sequences"
   ],
   "id": "93b2d75c0d19a069"
  },
  {
   "metadata": {
    "ExecuteTime": {
     "end_time": "2024-04-22T18:41:13.284521Z",
     "start_time": "2024-04-22T18:41:13.276771Z"
    }
   },
   "cell_type": "code",
   "source": "display_fasta(\"simple_small_diff.fasta\")",
   "id": "d5379361dfbf9449",
   "outputs": [
    {
     "name": "stdout",
     "output_type": "stream",
     "text": [
      "========== BEGIN: FASTA ==========\n",
      ">Group_A\n",
      "aaaaaaaaaaaaaaaaaaaaaaaaaaaaaaaaaaaaaaaaaaaaaaaaaaaaaaaaaaaaaaaa\n",
      "\n",
      ">Group_ADirty\n",
      "aaaaaaaaaaaaaaaaaaaaaaaaaaaaaaaaaaaaaaaaaaaaaaaaaaaaaaaaaaaaaatt\n",
      "\n",
      ">Group_T\n",
      "tttttttttttttttttttttttttttttttttttttttttttttttttttttttttttttttt\n",
      "\n",
      ">Group_TDirty\n",
      "ttttttttttttaatttttttttttttttttttttttttttttttttttttttttttttttttt\n",
      "========== END: FASTA ==========\n"
     ]
    }
   ],
   "execution_count": 117
  },
  {
   "metadata": {
    "ExecuteTime": {
     "end_time": "2024-04-22T18:41:13.423177Z",
     "start_time": "2024-04-22T18:41:13.286790Z"
    }
   },
   "cell_type": "code",
   "source": "display_clusters(run_dna_clust(\"simple_small_diff.fasta\", 0.98, 3))",
   "id": "de370f51631a2f9b",
   "outputs": [
    {
     "name": "stdout",
     "output_type": "stream",
     "text": [
      "========== BEGIN: CLUSTERS ==========\n",
      "Cluster No. 1: \n",
      "\t- Group_T\n",
      "Cluster No. 2: \n",
      "\t- Group_TDirty\n",
      "Cluster No. 3: \n",
      "\t- Group_ADirty\n",
      "Cluster No. 4: \n",
      "\t- Group_A\n",
      "========== END: CLUSTERS ==========\n"
     ]
    }
   ],
   "execution_count": 118
  },
  {
   "metadata": {
    "ExecuteTime": {
     "end_time": "2024-04-22T18:41:13.553925Z",
     "start_time": "2024-04-22T18:41:13.428487Z"
    }
   },
   "cell_type": "code",
   "source": "display_clusters(run_dna_clust(\"simple_small_diff.fasta\", 0.95, 3))",
   "id": "402a4de7c63b816f",
   "outputs": [
    {
     "name": "stdout",
     "output_type": "stream",
     "text": [
      "========== BEGIN: CLUSTERS ==========\n",
      "Cluster No. 1: \n",
      "\t- Group_T\n",
      "\t- Group_TDirty\n",
      "Cluster No. 2: \n",
      "\t- Group_ADirty\n",
      "\t- Group_A\n",
      "========== END: CLUSTERS ==========\n"
     ]
    }
   ],
   "execution_count": 119
  },
  {
   "metadata": {},
   "cell_type": "markdown",
   "source": [
    "### Group with huge difference\n",
    "- cluster three very simple sequences\n",
    "- one sequence is mix 50/50 of other"
   ],
   "id": "1768efbb59d34017"
  },
  {
   "metadata": {
    "ExecuteTime": {
     "end_time": "2024-04-22T18:41:13.567010Z",
     "start_time": "2024-04-22T18:41:13.556865Z"
    }
   },
   "cell_type": "code",
   "source": "display_fasta(\"simple_mixed.fasta\")",
   "id": "8fc801af64e56286",
   "outputs": [
    {
     "name": "stdout",
     "output_type": "stream",
     "text": [
      "========== BEGIN: FASTA ==========\n",
      ">Group_A\n",
      "\n",
      "aaaaaaaaaaaaaaaaaaaaaaaaaaaaaaaaaaaaaaaaaaaaaaaaaaaaaaaaaaaaaaaa\n",
      "\n",
      ">Group_T\n",
      "\n",
      "tttttttttttttttttttttttttttttttttttttttttttttttttttttttttttttttt\n",
      "\n",
      ">Group_Mix\n",
      "\n",
      "aaaaaaaaaaaaaaaaaaaaaaaaaaaaaaaatttttttttttttttttttttttttttttttt\n",
      "\n",
      "========== END: FASTA ==========\n"
     ]
    }
   ],
   "execution_count": 120
  },
  {
   "metadata": {
    "ExecuteTime": {
     "end_time": "2024-04-22T18:41:13.702567Z",
     "start_time": "2024-04-22T18:41:13.569641Z"
    }
   },
   "cell_type": "code",
   "source": "display_clusters(run_dna_clust(\"simple_mixed.fasta\", 0.95, 3))",
   "id": "cd1df61ddd9cf90f",
   "outputs": [
    {
     "name": "stdout",
     "output_type": "stream",
     "text": [
      "========== BEGIN: CLUSTERS ==========\n",
      "Cluster No. 1: \n",
      "\t- Group_T\n",
      "Cluster No. 2: \n",
      "\t- Group_Mix\n",
      "Cluster No. 3: \n",
      "\t- Group_A\n",
      "========== END: CLUSTERS ==========\n"
     ]
    }
   ],
   "execution_count": 121
  },
  {
   "metadata": {
    "ExecuteTime": {
     "end_time": "2024-04-22T18:41:13.820704Z",
     "start_time": "2024-04-22T18:41:13.705243Z"
    }
   },
   "cell_type": "code",
   "source": "display_clusters(run_dna_clust(\"simple_mixed.fasta\", 0.9, 3))",
   "id": "e6857a03dc5e525",
   "outputs": [
    {
     "name": "stdout",
     "output_type": "stream",
     "text": [
      "========== BEGIN: CLUSTERS ==========\n",
      "Cluster No. 1: \n",
      "\t- Group_T\n",
      "Cluster No. 2: \n",
      "\t- Group_Mix\n",
      "Cluster No. 3: \n",
      "\t- Group_A\n",
      "========== END: CLUSTERS ==========\n"
     ]
    }
   ],
   "execution_count": 122
  },
  {
   "metadata": {
    "ExecuteTime": {
     "end_time": "2024-04-22T18:41:13.951008Z",
     "start_time": "2024-04-22T18:41:13.823798Z"
    }
   },
   "cell_type": "code",
   "source": "display_clusters(run_dna_clust(\"simple_mixed.fasta\", 0.7, 3))",
   "id": "b71dc36fd341bc52",
   "outputs": [
    {
     "name": "stdout",
     "output_type": "stream",
     "text": [
      "========== BEGIN: CLUSTERS ==========\n",
      "Cluster No. 1: \n",
      "\t- Group_T\n",
      "Cluster No. 2: \n",
      "\t- Group_Mix\n",
      "Cluster No. 3: \n",
      "\t- Group_A\n",
      "========== END: CLUSTERS ==========\n"
     ]
    }
   ],
   "execution_count": 123
  },
  {
   "metadata": {
    "ExecuteTime": {
     "end_time": "2024-04-22T18:41:23.840688Z",
     "start_time": "2024-04-22T18:41:23.698394Z"
    }
   },
   "cell_type": "code",
   "source": "display_clusters(run_dna_clust(\"simple_mixed.fasta\", 0.5, 3))",
   "id": "793717ffa1240ffc",
   "outputs": [
    {
     "name": "stdout",
     "output_type": "stream",
     "text": [
      "========== BEGIN: CLUSTERS ==========\n",
      "Cluster No. 1: \n",
      "\t- Group_T\n",
      "\t- Group_Mix\n",
      "Cluster No. 2: \n",
      "\t- Group_A\n",
      "========== END: CLUSTERS ==========\n"
     ]
    }
   ],
   "execution_count": 126
  },
  {
   "metadata": {},
   "cell_type": "markdown",
   "source": [
    "## Conclusions\n",
    "\n",
    "- clusters depends on similarity parameters \n",
    "    - high values creates many small clusters\n",
    "    - low values few large clusters\n",
    "    - high values creates very similar clusters"
   ],
   "id": "3b71f710c7f2ce63"
  }
 ],
 "metadata": {
  "kernelspec": {
   "display_name": "Python 3",
   "language": "python",
   "name": "python3"
  },
  "language_info": {
   "codemirror_mode": {
    "name": "ipython",
    "version": 2
   },
   "file_extension": ".py",
   "mimetype": "text/x-python",
   "name": "python",
   "nbconvert_exporter": "python",
   "pygments_lexer": "ipython2",
   "version": "2.7.6"
  }
 },
 "nbformat": 4,
 "nbformat_minor": 5
}
