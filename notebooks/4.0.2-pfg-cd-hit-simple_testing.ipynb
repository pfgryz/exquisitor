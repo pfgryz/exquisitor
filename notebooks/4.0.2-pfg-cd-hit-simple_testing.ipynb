{
 "cells": [
  {
   "metadata": {},
   "cell_type": "markdown",
   "source": "# Grouping Algorithms Tests - CD-HIT",
   "id": "31679b08a56e38ca"
  },
  {
   "metadata": {},
   "cell_type": "markdown",
   "source": [
    "## Description\n",
    "\n",
    "Simple tests for CD-HIT\n",
    "\n"
   ],
   "id": "acacba50de60d79a"
  },
  {
   "metadata": {},
   "cell_type": "markdown",
   "source": [
    "## Setup\n",
    "1. Download CD-HIT source files (https://github.com/weizhongli/cdhit)\n",
    "2. Put source files into `grouping-algorithms/cdhit`\n",
    "3. Compile CD-HIT by `make`\n",
    "4. Compile CD-HIT-AUXTOOLS by `make`\n",
    "5. Full installation guide is covered by CD-HIT user's guide  https://github.com/weizhongli/cdhit/blob/master/doc/cdhit-user-guide.wiki#user-content-Installation"
   ],
   "id": "f46b62b7b47a06c9"
  },
  {
   "metadata": {},
   "cell_type": "markdown",
   "source": "## Utility",
   "id": "dee60a7254c1dae5"
  },
  {
   "metadata": {
    "ExecuteTime": {
     "end_time": "2024-05-05T11:44:56.608583Z",
     "start_time": "2024-05-05T11:44:56.599735Z"
    }
   },
   "cell_type": "code",
   "source": [
    "import subprocess\n",
    "\n",
    "type Cluster = list[str]\n",
    "type Clusters = list[Cluster]\n",
    "\n",
    "\n",
    "def run(program: str, *args: str):\n",
    "    result = subprocess.run([program, *args], capture_output=True,\n",
    "                            text=True)\n",
    "    return result\n",
    "\n",
    "\n",
    "def display_fasta(filename: str):\n",
    "    print(\"=\" * 10 + \" BEGIN: FASTA \" + \"=\" * 10)\n",
    "\n",
    "    with open(f\"grouping-algorithms/data/{filename}\") as handle:\n",
    "        print(handle.read())\n",
    "\n",
    "    print(\"=\" * 10 + \" END: FASTA \" + \"=\" * 10)\n",
    "\n",
    "\n",
    "def display_clusters(clusters: Clusters):\n",
    "    print(\"=\" * 10 + \" BEGIN: CLUSTERS \" + \"=\" * 10)\n",
    "\n",
    "    for idx, cluster in enumerate(clusters, 1):\n",
    "        print(f\"Cluster No. {idx}: \\n\", end=\"\")\n",
    "        \n",
    "        for seq in cluster:\n",
    "            print(f\"\\t- {seq}\")\n",
    "\n",
    "    print(\"=\" * 10 + \" END: CLUSTERS \" + \"=\" * 10)"
   ],
   "id": "76dffa42949913d8",
   "outputs": [],
   "execution_count": 1
  },
  {
   "metadata": {
    "ExecuteTime": {
     "end_time": "2024-05-05T15:37:36.962800Z",
     "start_time": "2024-05-05T15:37:36.957767Z"
    }
   },
   "cell_type": "code",
   "source": [
    "def run_cd_hit(filename: str, similarity: float, word_size: int = 5) -> Clusters:\n",
    "    r = run(\n",
    "        \"grouping-algorithms/cdhit/cd-hit\",\n",
    "        \"-i\", \n",
    "        \"grouping-algorithms/data/\" + filename,\n",
    "        \"-o\",\n",
    "        \"result.tmp\",\n",
    "        \"-c\",\n",
    "        f\"{similarity:.2f}\",\n",
    "        \"-n\",\n",
    "        f\"{word_size}\"\n",
    "    )\n",
    "    print(r.stdout)\n",
    "    \n",
    "    clusters = []\n",
    "    with open(\"result.tmp.clstr\") as handle:\n",
    "        data = handle.read()\n",
    "        \n",
    "    cluster = None\n",
    "    for line in data.split(\"\\n\"):\n",
    "        if line.startswith(\">\"):\n",
    "            if cluster is not None:\n",
    "                clusters.append(cluster)\n",
    "                cluster = None\n",
    "            cluster = []\n",
    "        elif \">\" in line and \"...\" in line:\n",
    "            name = line[line.index(\">\") + 1 : line.index(\"...\")]\n",
    "            is_repr = line[line.index(\"...\") + 3:]\n",
    "            is_repr = \"Representative\" if is_repr == \"*\" else is_repr\n",
    "            name = f\"{name.strip()} ({is_repr.strip()})\"\n",
    "            cluster.append(name)\n",
    "        else:\n",
    "            print(\"Unknown line\", line)\n",
    "            \n",
    "    if cluster is not None:\n",
    "        clusters.append(cluster)\n",
    "            \n",
    "    return clusters"
   ],
   "id": "eb94564dd0dc2040",
   "outputs": [],
   "execution_count": 18
  },
  {
   "metadata": {},
   "cell_type": "markdown",
   "source": "## Tests",
   "id": "f3a64d53eccd0c45"
  },
  {
   "metadata": {},
   "cell_type": "markdown",
   "source": [
    "### Group simple\n",
    "- cluster two very simple sequences"
   ],
   "id": "1bb844e66c26813d"
  },
  {
   "metadata": {
    "ExecuteTime": {
     "end_time": "2024-05-05T15:37:39.196172Z",
     "start_time": "2024-05-05T15:37:39.189427Z"
    }
   },
   "cell_type": "code",
   "source": "display_fasta(\"simple.fasta\")",
   "id": "af58c647c455af4e",
   "outputs": [
    {
     "name": "stdout",
     "output_type": "stream",
     "text": [
      "========== BEGIN: FASTA ==========\n",
      ">Group_A\n",
      "\n",
      "aaaaaaaaaaaaaaaaaaaaaaaaaaaaaaaaaaaaaaaaaaaaaaaaaaaaaaaaaaaaaaaa\n",
      "\n",
      ">Group_T\n",
      "\n",
      "uuuuuuuuuuuuuuuuuuuuuuuuuuuuuuuuuuuuuuuuuuuuuuuuuuuuuuuuuuuuuuuu\n",
      "\n",
      "\n",
      "========== END: FASTA ==========\n"
     ]
    }
   ],
   "execution_count": 19
  },
  {
   "metadata": {
    "ExecuteTime": {
     "end_time": "2024-05-05T15:37:50.414954Z",
     "start_time": "2024-05-05T15:37:50.296853Z"
    }
   },
   "cell_type": "code",
   "source": "display_clusters(run_cd_hit(\"simple.fasta\", 0.95, 5))",
   "id": "d314dd79bcf2abd",
   "outputs": [
    {
     "name": "stdout",
     "output_type": "stream",
     "text": [
      "================================================================\n",
      "Program: CD-HIT, V4.8.1 (+OpenMP), May 05 2024, 13:34:07\n",
      "Command: grouping-algorithms/cdhit/cd-hit -i\n",
      "         grouping-algorithms/data/simple.fasta -o result.tmp -c\n",
      "         0.95 -n 5\n",
      "\n",
      "Started: Sun May  5 17:37:50 2024\n",
      "================================================================\n",
      "                            Output                              \n",
      "----------------------------------------------------------------\n",
      "total seq: 2\n",
      "longest and shortest : 64 and 64\n",
      "Total letters: 128\n",
      "Sequences have been sorted\n",
      "\n",
      "Approximated minimal memory consumption:\n",
      "Sequence        : 0M\n",
      "Buffer          : 1 X 10M = 10M\n",
      "Table           : 1 X 65M = 65M\n",
      "Miscellaneous   : 0M\n",
      "Total           : 75M\n",
      "\n",
      "Table limit with the given memory limit:\n",
      "Max number of representatives: 4000000\n",
      "Max number of word counting entries: 90518873\n",
      "\n",
      "\n",
      "comparing sequences from          0  to          2\n",
      "\n",
      "        2  finished          2  clusters\n",
      "\n",
      "Approximated maximum memory consumption: 75M\n",
      "writing new database\n",
      "writing clustering information\n",
      "program completed !\n",
      "\n",
      "Total CPU time 0.08\n",
      "\n",
      "Unknown line \n",
      "========== BEGIN: CLUSTERS ==========\n",
      "Cluster No. 1: \n",
      "\t- Group_A (*)\n",
      "Cluster No. 2: \n",
      "\t- Group_T (*)\n",
      "========== END: CLUSTERS ==========\n"
     ]
    }
   ],
   "execution_count": 21
  },
  {
   "metadata": {},
   "cell_type": "markdown",
   "source": [
    "### Group simple with small differences\n",
    "- cluster four very simple sequences\n",
    "- two sequences are impure, but very similar to reference sequences"
   ],
   "id": "9bb1e5e497891620"
  },
  {
   "metadata": {
    "ExecuteTime": {
     "end_time": "2024-05-05T15:38:24.853338Z",
     "start_time": "2024-05-05T15:38:24.845076Z"
    }
   },
   "cell_type": "code",
   "source": "display_fasta(\"simple_small_diff.fasta\")",
   "id": "460d09d5634b5900",
   "outputs": [
    {
     "name": "stdout",
     "output_type": "stream",
     "text": [
      "========== BEGIN: FASTA ==========\n",
      ">Group_A\n",
      "aaaaaaaaaaaaaaaaaaaaaaaaaaaaaaaaaaaaaaaaaaaaaaaaaaaaaaaaaaaaaaaa\n",
      "\n",
      ">Group_ADirty\n",
      "aaaaaaaaaaaaaaaaaaaaaaaaaaaaaaaaaaaaaaaaaaaaaaaaaaaaaaaaaaaaaatt\n",
      "\n",
      ">Group_T\n",
      "tttttttttttttttttttttttttttttttttttttttttttttttttttttttttttttttt\n",
      "\n",
      ">Group_TDirty\n",
      "ttttttttttttaatttttttttttttttttttttttttttttttttttttttttttttttttt\n",
      "========== END: FASTA ==========\n"
     ]
    }
   ],
   "execution_count": 22
  },
  {
   "metadata": {
    "ExecuteTime": {
     "end_time": "2024-05-05T15:38:32.872488Z",
     "start_time": "2024-05-05T15:38:32.839630Z"
    }
   },
   "cell_type": "code",
   "source": "display_clusters(run_cd_hit(\"simple_small_diff.fasta\", 0.98, 3))",
   "id": "14511e41da7fee32",
   "outputs": [
    {
     "name": "stdout",
     "output_type": "stream",
     "text": [
      "================================================================\n",
      "Program: CD-HIT, V4.8.1 (+OpenMP), May 05 2024, 13:34:07\n",
      "Command: grouping-algorithms/cdhit/cd-hit -i\n",
      "         grouping-algorithms/data/simple_small_diff.fasta -o\n",
      "         result.tmp -c 0.98 -n 3\n",
      "\n",
      "Started: Sun May  5 17:38:32 2024\n",
      "================================================================\n",
      "                            Output                              \n",
      "----------------------------------------------------------------\n",
      "Your word length is 3, using 5 may be faster!\n",
      "total seq: 4\n",
      "longest and shortest : 64 and 64\n",
      "Total letters: 256\n",
      "Sequences have been sorted\n",
      "\n",
      "Approximated minimal memory consumption:\n",
      "Sequence        : 0M\n",
      "Buffer          : 1 X 10M = 10M\n",
      "Table           : 1 X 0M = 0M\n",
      "Miscellaneous   : 0M\n",
      "Total           : 10M\n",
      "\n",
      "Table limit with the given memory limit:\n",
      "Max number of representatives: 4000000\n",
      "Max number of word counting entries: 98668495\n",
      "\n",
      "\n",
      "comparing sequences from          0  to          4\n",
      "\n",
      "        4  finished          4  clusters\n",
      "\n",
      "Approximated maximum memory consumption: 10M\n",
      "writing new database\n",
      "writing clustering information\n",
      "program completed !\n",
      "\n",
      "Total CPU time 0.01\n",
      "\n",
      "Unknown line \n",
      "========== BEGIN: CLUSTERS ==========\n",
      "Cluster No. 1: \n",
      "\t- Group_A (*)\n",
      "Cluster No. 2: \n",
      "\t- Group_ADirty (*)\n",
      "Cluster No. 3: \n",
      "\t- Group_T (*)\n",
      "Cluster No. 4: \n",
      "\t- Group_TDirty (*)\n",
      "========== END: CLUSTERS ==========\n"
     ]
    }
   ],
   "execution_count": 24
  },
  {
   "metadata": {
    "ExecuteTime": {
     "end_time": "2024-05-05T15:38:44.200959Z",
     "start_time": "2024-05-05T15:38:44.164552Z"
    }
   },
   "cell_type": "code",
   "source": "display_clusters(run_cd_hit(\"simple_small_diff.fasta\", 0.95, 3))",
   "id": "66d297564bc3bda",
   "outputs": [
    {
     "name": "stdout",
     "output_type": "stream",
     "text": [
      "================================================================\n",
      "Program: CD-HIT, V4.8.1 (+OpenMP), May 05 2024, 13:34:07\n",
      "Command: grouping-algorithms/cdhit/cd-hit -i\n",
      "         grouping-algorithms/data/simple_small_diff.fasta -o\n",
      "         result.tmp -c 0.95 -n 3\n",
      "\n",
      "Started: Sun May  5 17:38:44 2024\n",
      "================================================================\n",
      "                            Output                              \n",
      "----------------------------------------------------------------\n",
      "Your word length is 3, using 5 may be faster!\n",
      "total seq: 4\n",
      "longest and shortest : 64 and 64\n",
      "Total letters: 256\n",
      "Sequences have been sorted\n",
      "\n",
      "Approximated minimal memory consumption:\n",
      "Sequence        : 0M\n",
      "Buffer          : 1 X 10M = 10M\n",
      "Table           : 1 X 0M = 0M\n",
      "Miscellaneous   : 0M\n",
      "Total           : 10M\n",
      "\n",
      "Table limit with the given memory limit:\n",
      "Max number of representatives: 4000000\n",
      "Max number of word counting entries: 98668495\n",
      "\n",
      "\n",
      "comparing sequences from          0  to          4\n",
      "\n",
      "        4  finished          2  clusters\n",
      "\n",
      "Approximated maximum memory consumption: 10M\n",
      "writing new database\n",
      "writing clustering information\n",
      "program completed !\n",
      "\n",
      "Total CPU time 0.01\n",
      "\n",
      "Unknown line \n",
      "========== BEGIN: CLUSTERS ==========\n",
      "Cluster No. 1: \n",
      "\t- Group_A (*)\n",
      "\t- Group_ADirty (at 96.88%)\n",
      "Cluster No. 2: \n",
      "\t- Group_T (*)\n",
      "\t- Group_TDirty (at 96.88%)\n",
      "========== END: CLUSTERS ==========\n"
     ]
    }
   ],
   "execution_count": 26
  },
  {
   "metadata": {},
   "cell_type": "markdown",
   "source": [
    "### Group with huge difference\n",
    "- cluster three very simple sequences\n",
    "- one sequence is mix 50/50 of other"
   ],
   "id": "e922d72254f53a53"
  },
  {
   "metadata": {
    "ExecuteTime": {
     "end_time": "2024-05-05T15:38:51.455169Z",
     "start_time": "2024-05-05T15:38:51.447769Z"
    }
   },
   "cell_type": "code",
   "source": "display_fasta(\"simple_mixed.fasta\")",
   "id": "42e27a8506fca15",
   "outputs": [
    {
     "name": "stdout",
     "output_type": "stream",
     "text": [
      "========== BEGIN: FASTA ==========\n",
      ">Group_A\n",
      "\n",
      "aaaaaaaaaaaaaaaaaaaaaaaaaaaaaaaaaaaaaaaaaaaaaaaaaaaaaaaaaaaaaaaa\n",
      "\n",
      ">Group_T\n",
      "\n",
      "tttttttttttttttttttttttttttttttttttttttttttttttttttttttttttttttt\n",
      "\n",
      ">Group_Mix\n",
      "\n",
      "aaaaaaaaaaaaaaaaaaaaaaaaaaaaaaaatttttttttttttttttttttttttttttttt\n",
      "\n",
      "========== END: FASTA ==========\n"
     ]
    }
   ],
   "execution_count": 27
  },
  {
   "metadata": {
    "ExecuteTime": {
     "end_time": "2024-05-05T15:39:30.371775Z",
     "start_time": "2024-05-05T15:39:30.283253Z"
    }
   },
   "cell_type": "code",
   "source": "display_clusters(run_cd_hit(\"simple_mixed.fasta\", 0.95, 5))",
   "id": "3c0fa136f933283e",
   "outputs": [
    {
     "name": "stdout",
     "output_type": "stream",
     "text": [
      "================================================================\n",
      "Program: CD-HIT, V4.8.1 (+OpenMP), May 05 2024, 13:34:07\n",
      "Command: grouping-algorithms/cdhit/cd-hit -i\n",
      "         grouping-algorithms/data/simple_mixed.fasta -o\n",
      "         result.tmp -c 0.95 -n 5\n",
      "\n",
      "Started: Sun May  5 17:39:30 2024\n",
      "================================================================\n",
      "                            Output                              \n",
      "----------------------------------------------------------------\n",
      "total seq: 3\n",
      "longest and shortest : 64 and 64\n",
      "Total letters: 192\n",
      "Sequences have been sorted\n",
      "\n",
      "Approximated minimal memory consumption:\n",
      "Sequence        : 0M\n",
      "Buffer          : 1 X 10M = 10M\n",
      "Table           : 1 X 65M = 65M\n",
      "Miscellaneous   : 0M\n",
      "Total           : 75M\n",
      "\n",
      "Table limit with the given memory limit:\n",
      "Max number of representatives: 4000000\n",
      "Max number of word counting entries: 90518845\n",
      "\n",
      "\n",
      "comparing sequences from          0  to          3\n",
      "\n",
      "        3  finished          3  clusters\n",
      "\n",
      "Approximated maximum memory consumption: 75M\n",
      "writing new database\n",
      "writing clustering information\n",
      "program completed !\n",
      "\n",
      "Total CPU time 0.06\n",
      "\n",
      "Unknown line \n",
      "========== BEGIN: CLUSTERS ==========\n",
      "Cluster No. 1: \n",
      "\t- Group_A (*)\n",
      "Cluster No. 2: \n",
      "\t- Group_T (*)\n",
      "Cluster No. 3: \n",
      "\t- Group_Mix (*)\n",
      "========== END: CLUSTERS ==========\n"
     ]
    }
   ],
   "execution_count": 30
  },
  {
   "metadata": {
    "ExecuteTime": {
     "end_time": "2024-05-05T15:39:31.497495Z",
     "start_time": "2024-05-05T15:39:31.459569Z"
    }
   },
   "cell_type": "code",
   "source": "display_clusters(run_cd_hit(\"simple_mixed.fasta\", 0.5, 2))",
   "id": "fa6a53b00e6d93eb",
   "outputs": [
    {
     "name": "stdout",
     "output_type": "stream",
     "text": [
      "================================================================\n",
      "Program: CD-HIT, V4.8.1 (+OpenMP), May 05 2024, 13:34:07\n",
      "Command: grouping-algorithms/cdhit/cd-hit -i\n",
      "         grouping-algorithms/data/simple_mixed.fasta -o\n",
      "         result.tmp -c 0.50 -n 2\n",
      "\n",
      "Started: Sun May  5 17:39:31 2024\n",
      "================================================================\n",
      "                            Output                              \n",
      "----------------------------------------------------------------\n",
      "total seq: 3\n",
      "longest and shortest : 64 and 64\n",
      "Total letters: 192\n",
      "Sequences have been sorted\n",
      "\n",
      "Approximated minimal memory consumption:\n",
      "Sequence        : 0M\n",
      "Buffer          : 1 X 10M = 10M\n",
      "Table           : 1 X 0M = 0M\n",
      "Miscellaneous   : 0M\n",
      "Total           : 10M\n",
      "\n",
      "Table limit with the given memory limit:\n",
      "Max number of representatives: 4000000\n",
      "Max number of word counting entries: 98686165\n",
      "\n",
      "\n",
      "comparing sequences from          0  to          3\n",
      "\n",
      "        3  finished          2  clusters\n",
      "\n",
      "Approximated maximum memory consumption: 10M\n",
      "writing new database\n",
      "writing clustering information\n",
      "program completed !\n",
      "\n",
      "Total CPU time 0.01\n",
      "\n",
      "Unknown line \n",
      "========== BEGIN: CLUSTERS ==========\n",
      "Cluster No. 1: \n",
      "\t- Group_A (*)\n",
      "\t- Group_Mix (at 50.00%)\n",
      "Cluster No. 2: \n",
      "\t- Group_T (*)\n",
      "========== END: CLUSTERS ==========\n"
     ]
    }
   ],
   "execution_count": 31
  },
  {
   "metadata": {},
   "cell_type": "markdown",
   "source": "## Conclusions",
   "id": "c7856117f277b9c6"
  },
  {
   "metadata": {},
   "cell_type": "markdown",
   "source": [
    "- CD-HIT have very nice output files that contains representative sequence and similarity information (can be used in later visualisation)\n",
    "- CD-HIT has many options, can be fine-tuned to specific tasks\n",
    "- runtime information are helpful and contains all information eg. memory usage or cpu time\n",
    "- cd-hit is multithread"
   ],
   "id": "f05b3c0cfe53dcc6"
  },
  {
   "metadata": {},
   "cell_type": "markdown",
   "source": "## Conclusions about all 3 algorithms",
   "id": "1b7b8ccf46982e83"
  },
  {
   "metadata": {},
   "cell_type": "markdown",
   "source": [
    "**DNAClust**\n",
    "- DNAClust is the simplest program in this comparison that offers few options and is no longer maintained.\n",
    "- handling errors is not friendly and gives zero feedback - programs just closes with exit code\n",
    "- output is simple, without information about representative\n",
    "\n",
    "**CD-HIT**\n",
    "- more complex, with more options and slightly better error handling\n",
    "- contains the representative for each cluster (nice to have)\n",
    "- have very nice statistics for usage (memory, cpu)\n",
    "- multithreaded\n",
    "\n",
    "**Mothur**\n",
    "- powerful toolkit, more than other programs\n",
    "- nice to have as preprocessing tool\n",
    "- clustering is nice, but requires distance matrix (can be problematic for large datasets)\n",
    "- multithreaded"
   ],
   "id": "f5ecc7b487769a78"
  },
  {
   "metadata": {},
   "cell_type": "markdown",
   "source": [
    "## Next Steps\n",
    "\n",
    "- comparing all programs in real scenarios with few hundreds short reads\n",
    "    - measuring time, memory and CPU usage\n",
    "    - measuring amount of clusters, quality of clusters\n",
    "    - tries with fine-tuning"
   ],
   "id": "aee38112d331dc46"
  }
 ],
 "metadata": {
  "kernelspec": {
   "display_name": "Python 3",
   "language": "python",
   "name": "python3"
  },
  "language_info": {
   "codemirror_mode": {
    "name": "ipython",
    "version": 2
   },
   "file_extension": ".py",
   "mimetype": "text/x-python",
   "name": "python",
   "nbconvert_exporter": "python",
   "pygments_lexer": "ipython2",
   "version": "2.7.6"
  }
 },
 "nbformat": 4,
 "nbformat_minor": 5
}
